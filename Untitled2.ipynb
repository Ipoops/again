{
  "nbformat": 4,
  "nbformat_minor": 0,
  "metadata": {
    "colab": {
      "provenance": [],
      "authorship_tag": "ABX9TyPRMGKVjwutTPWH9fxd9wYb",
      "include_colab_link": true
    },
    "kernelspec": {
      "name": "python3",
      "display_name": "Python 3"
    },
    "language_info": {
      "name": "python"
    }
  },
  "cells": [
    {
      "cell_type": "markdown",
      "metadata": {
        "id": "view-in-github",
        "colab_type": "text"
      },
      "source": [
        "<a href=\"https://colab.research.google.com/github/Ipoops/again/blob/main/Untitled2.ipynb\" target=\"_parent\"><img src=\"https://colab.research.google.com/assets/colab-badge.svg\" alt=\"Open In Colab\"/></a>"
      ]
    },
    {
      "cell_type": "code",
      "execution_count": 2,
      "metadata": {
        "colab": {
          "base_uri": "https://localhost:8080/"
        },
        "id": "2wT9iy_ltU3S",
        "outputId": "4db3c403-e5bc-43f9-9dc2-2430e1fb8bbf"
      },
      "outputs": [
        {
          "output_type": "stream",
          "name": "stdout",
          "text": [
            "56\n"
          ]
        }
      ],
      "source": [
        "student_name = 'Soyuj'\n",
        "marks = {'James':90, 'Jules':55, 'Arthur':77, 'Soyuj':56}\n",
        "for student in marks:\n",
        "  if student == student_name:\n",
        "    print(marks[student])\n",
        "    break\n",
        "else:\n",
        "  print('No entry with that name found.')"
      ]
    },
    {
      "cell_type": "code",
      "source": [
        "website = 'Regenesys'\n",
        "print(website)"
      ],
      "metadata": {
        "colab": {
          "base_uri": "https://localhost:8080/"
        },
        "id": "s2E40VcJxcq3",
        "outputId": "e4a54717-7292-4e72-8c00-9d094920ec8d"
      },
      "execution_count": 3,
      "outputs": [
        {
          "output_type": "stream",
          "name": "stdout",
          "text": [
            "Regenesys\n"
          ]
        }
      ]
    },
    {
      "cell_type": "code",
      "source": [
        "a, b, c = 5, 3.2, \"hello\"\n",
        "print(a)\n",
        "print(b)\n",
        "print(c)\n"
      ],
      "metadata": {
        "colab": {
          "base_uri": "https://localhost:8080/"
        },
        "id": "ozjaZehNxoe0",
        "outputId": "2a47316d-5598-4797-9d66-2d03b1bbb96b"
      },
      "execution_count": 6,
      "outputs": [
        {
          "output_type": "stream",
          "name": "stdout",
          "text": [
            "5\n",
            "3.2\n",
            "hello\n"
          ]
        }
      ]
    },
    {
      "cell_type": "code",
      "source": [
        "A_Name=\"Gazal\"\n",
        "A_Marks=50\n",
        "A_Percentage=80.88\n",
        "print(A_Percentage)\n",
        "A_Percentage=60\n",
        "print(A_Percentage)\n",
        "type(A_Marks)\n",
        "type(A_Name)"
      ],
      "metadata": {
        "colab": {
          "base_uri": "https://localhost:8080/"
        },
        "id": "Eojq31YRyORr",
        "outputId": "e43adea7-0339-4df2-ca94-ed08b240109b"
      },
      "execution_count": 8,
      "outputs": [
        {
          "output_type": "stream",
          "name": "stdout",
          "text": [
            "80.88\n",
            "60\n"
          ]
        },
        {
          "output_type": "execute_result",
          "data": {
            "text/plain": [
              "str"
            ]
          },
          "metadata": {},
          "execution_count": 8
        }
      ]
    },
    {
      "cell_type": "code",
      "source": [
        "a = 5\n",
        "print(a, \"is of type\", type(a))\n",
        "a = 2.0\n",
        "print(a, \"is of type\", type(a))\n",
        "a = 1+2j\n",
        "print(a, \"is complex number?\", isinstance(1+2j,complex))\n",
        "test_list = [1, 2, 3]\n",
        "print (\"Is test_list list? : \" + str(isinstance(test_list, list)))\n"
      ],
      "metadata": {
        "colab": {
          "base_uri": "https://localhost:8080/"
        },
        "id": "nH5peRECyn0P",
        "outputId": "21582d56-6813-4fb3-b481-8e287acb61fe"
      },
      "execution_count": 9,
      "outputs": [
        {
          "output_type": "stream",
          "name": "stdout",
          "text": [
            "5 is of type <class 'int'>\n",
            "2.0 is of type <class 'float'>\n",
            "(1+2j) is complex number? True\n",
            "Is test_list list? : True\n"
          ]
        }
      ]
    },
    {
      "cell_type": "code",
      "source": [
        "a = [5,10,15,20,25,30,35,40]\n",
        "print(a[0])\n",
        "print(a[1])\n",
        "# a[2] = 15\n",
        "print(a[-3])\n",
        "#this is just comment\n",
        "# a[0:3] = [5, 10, 15]\n",
        "print(\"a[0:4] = \", a[0:4])\n",
        "# a[5:] = [30, 35, 40]\n",
        "print(\"a[5:] = \", a[5:])\n",
        "print(len(a))\n",
        "print(max(a))\n",
        "min(a)"
      ],
      "metadata": {
        "colab": {
          "base_uri": "https://localhost:8080/"
        },
        "id": "t2w6WNZZznCY",
        "outputId": "e8535336-8967-4db4-ec4b-e148e55697bb"
      },
      "execution_count": 11,
      "outputs": [
        {
          "output_type": "stream",
          "name": "stdout",
          "text": [
            "5\n",
            "10\n",
            "30\n",
            "a[0:4] =  [5, 10, 15, 20]\n",
            "a[5:] =  [30, 35, 40]\n",
            "8\n",
            "40\n"
          ]
        },
        {
          "output_type": "execute_result",
          "data": {
            "text/plain": [
              "5"
            ]
          },
          "metadata": {},
          "execution_count": 11
        }
      ]
    }
  ]
}